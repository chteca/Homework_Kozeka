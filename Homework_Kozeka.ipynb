{
 "cells": [
  {
   "cell_type": "markdown",
   "metadata": {},
   "source": [
    "## Практическое домашнее задание на проверку знаний по модулю 1.\n",
    "\n",
    "\n",
    "##### Тема тестирования - базовый эксплоративный анализ и аналитическое мышление. Вам будет предоставлен датасет и 25 вопросов касаемо данного датасета. Ваша задача - подумать как найти ответы на поставленные вопросы ниже. За каждый правильно оформленный и предоставленный ответ начисляется *4 балла*.\n",
    "\n",
    "#### Ответ на решение присылать ссылкой на ваш гитхаб репозиторий на почту maratmovlamov2017@gmail.com\n",
    "\n",
    "#### Сроки выполнения практического домашнего задания - ровно 7 календарных дней (168 часов) с момента публикации в группе. Прошу приступать к решению задач порционно. Прошу повторить дополнительные материалы, предоставленные в качестве самостоятельного изучения в конце презентаций, они вам понадобятся.\n",
    "\n",
    "\n",
    "\n",
    "#### Критерии оценки присланного решения:\n",
    "\n",
    "* Правильность полученного ответа - на каждый поставленный вопрос есть один и только один правильный ответ. В случае неправильного ответа на поставленный вопрос, предоставленный ответ на него считается проваленным, даже если код написан правильно и красиво. Общее количество баллов, которые можно получить ответив на все вопросы верно - 25 * 4 = 100 баллов, которые шкалируются к 10-ти бальной шкале.\n",
    "\n",
    "___\n",
    "\n",
    "* Аккуратность, правильность и читаемость кода - старайтесь писать код без повторного использования методов и ненужных переменных (помните про принцип DRY - don't repeat yourself). Плюсом будет, если ваш код будет упакован в лаконичную и красиво написанную функцию. Если вся работа выполненна аккуратно, без спагетти кода, к общему результату работы начисляется 1 балл.\n",
    "\n",
    "---\n",
    "\n",
    "* На предоставленные вопросы, дописывается комментарий для проверки вашего мышления и поиска ответа в виде Markdown комментария. В случае если комментарий на поставленный вопрос не предоставлен снимается 0.1 балл за каждый такой вопрос. То есть общий штраф за отсутсвие комментариев по всем вопросам 25 * -0.1 =  -2.5 балла.\n",
    "\n",
    "\n",
    "#### Удачи и да прибудет с Вами сила :)\n",
    "\n"
   ]
  },
  {
   "cell_type": "code",
   "execution_count": 578,
   "metadata": {
    "ExecuteTime": {
     "end_time": "2023-05-22T09:51:30.639118200Z",
     "start_time": "2023-05-22T09:51:30.360510500Z"
    }
   },
   "outputs": [],
   "source": [
    "import pandas as pd\n",
    "import numpy as np"
   ]
  },
  {
   "cell_type": "code",
   "execution_count": 579,
   "metadata": {
    "ExecuteTime": {
     "end_time": "2023-05-22T09:51:31.599273500Z",
     "start_time": "2023-05-22T09:51:31.113968400Z"
    }
   },
   "outputs": [],
   "source": [
    "df = pd.read_csv(\"./dataset/Spotify_Youtube.csv\")"
   ]
  },
  {
   "cell_type": "code",
   "execution_count": 580,
   "metadata": {
    "ExecuteTime": {
     "end_time": "2023-05-22T09:51:32.243645600Z",
     "start_time": "2023-05-22T09:51:32.227638100Z"
    }
   },
   "outputs": [
    {
     "data": {
      "text/html": [
       "<div>\n",
       "<style scoped>\n",
       "    .dataframe tbody tr th:only-of-type {\n",
       "        vertical-align: middle;\n",
       "    }\n",
       "\n",
       "    .dataframe tbody tr th {\n",
       "        vertical-align: top;\n",
       "    }\n",
       "\n",
       "    .dataframe thead th {\n",
       "        text-align: right;\n",
       "    }\n",
       "</style>\n",
       "<table border=\"1\" class=\"dataframe\">\n",
       "  <thead>\n",
       "    <tr style=\"text-align: right;\">\n",
       "      <th></th>\n",
       "      <th>Unnamed: 0</th>\n",
       "      <th>Artist</th>\n",
       "      <th>Url_spotify</th>\n",
       "      <th>Track</th>\n",
       "      <th>Album</th>\n",
       "      <th>Album_type</th>\n",
       "      <th>Uri</th>\n",
       "      <th>Danceability</th>\n",
       "      <th>Energy</th>\n",
       "      <th>Key</th>\n",
       "      <th>...</th>\n",
       "      <th>Url_youtube</th>\n",
       "      <th>Title</th>\n",
       "      <th>Channel</th>\n",
       "      <th>Views</th>\n",
       "      <th>Likes</th>\n",
       "      <th>Comments</th>\n",
       "      <th>Description</th>\n",
       "      <th>Licensed</th>\n",
       "      <th>official_video</th>\n",
       "      <th>Stream</th>\n",
       "    </tr>\n",
       "  </thead>\n",
       "  <tbody>\n",
       "    <tr>\n",
       "      <th>0</th>\n",
       "      <td>0</td>\n",
       "      <td>Gorillaz</td>\n",
       "      <td>https://open.spotify.com/artist/3AA28KZvwAUcZu...</td>\n",
       "      <td>Feel Good Inc.</td>\n",
       "      <td>Demon Days</td>\n",
       "      <td>album</td>\n",
       "      <td>spotify:track:0d28khcov6AiegSCpG5TuT</td>\n",
       "      <td>0.818</td>\n",
       "      <td>0.705</td>\n",
       "      <td>6.0</td>\n",
       "      <td>...</td>\n",
       "      <td>https://www.youtube.com/watch?v=HyHNuVaZJ-k</td>\n",
       "      <td>Gorillaz - Feel Good Inc. (Official Video)</td>\n",
       "      <td>Gorillaz</td>\n",
       "      <td>693555221.0</td>\n",
       "      <td>6220896.0</td>\n",
       "      <td>169907.0</td>\n",
       "      <td>Official HD Video for Gorillaz' fantastic trac...</td>\n",
       "      <td>True</td>\n",
       "      <td>True</td>\n",
       "      <td>1.040235e+09</td>\n",
       "    </tr>\n",
       "    <tr>\n",
       "      <th>1</th>\n",
       "      <td>1</td>\n",
       "      <td>Gorillaz</td>\n",
       "      <td>https://open.spotify.com/artist/3AA28KZvwAUcZu...</td>\n",
       "      <td>Rhinestone Eyes</td>\n",
       "      <td>Plastic Beach</td>\n",
       "      <td>album</td>\n",
       "      <td>spotify:track:1foMv2HQwfQ2vntFf9HFeG</td>\n",
       "      <td>0.676</td>\n",
       "      <td>0.703</td>\n",
       "      <td>8.0</td>\n",
       "      <td>...</td>\n",
       "      <td>https://www.youtube.com/watch?v=yYDmaexVHic</td>\n",
       "      <td>Gorillaz - Rhinestone Eyes [Storyboard Film] (...</td>\n",
       "      <td>Gorillaz</td>\n",
       "      <td>72011645.0</td>\n",
       "      <td>1079128.0</td>\n",
       "      <td>31003.0</td>\n",
       "      <td>The official video for Gorillaz - Rhinestone E...</td>\n",
       "      <td>True</td>\n",
       "      <td>True</td>\n",
       "      <td>3.100837e+08</td>\n",
       "    </tr>\n",
       "    <tr>\n",
       "      <th>2</th>\n",
       "      <td>2</td>\n",
       "      <td>Gorillaz</td>\n",
       "      <td>https://open.spotify.com/artist/3AA28KZvwAUcZu...</td>\n",
       "      <td>New Gold (feat. Tame Impala and Bootie Brown)</td>\n",
       "      <td>New Gold (feat. Tame Impala and Bootie Brown)</td>\n",
       "      <td>single</td>\n",
       "      <td>spotify:track:64dLd6rVqDLtkXFYrEUHIU</td>\n",
       "      <td>0.695</td>\n",
       "      <td>0.923</td>\n",
       "      <td>1.0</td>\n",
       "      <td>...</td>\n",
       "      <td>https://www.youtube.com/watch?v=qJa-VFwPpYA</td>\n",
       "      <td>Gorillaz - New Gold ft. Tame Impala &amp; Bootie B...</td>\n",
       "      <td>Gorillaz</td>\n",
       "      <td>8435055.0</td>\n",
       "      <td>282142.0</td>\n",
       "      <td>7399.0</td>\n",
       "      <td>Gorillaz - New Gold ft. Tame Impala &amp; Bootie B...</td>\n",
       "      <td>True</td>\n",
       "      <td>True</td>\n",
       "      <td>6.306347e+07</td>\n",
       "    </tr>\n",
       "    <tr>\n",
       "      <th>3</th>\n",
       "      <td>3</td>\n",
       "      <td>Gorillaz</td>\n",
       "      <td>https://open.spotify.com/artist/3AA28KZvwAUcZu...</td>\n",
       "      <td>On Melancholy Hill</td>\n",
       "      <td>Plastic Beach</td>\n",
       "      <td>album</td>\n",
       "      <td>spotify:track:0q6LuUqGLUiCPP1cbdwFs3</td>\n",
       "      <td>0.689</td>\n",
       "      <td>0.739</td>\n",
       "      <td>2.0</td>\n",
       "      <td>...</td>\n",
       "      <td>https://www.youtube.com/watch?v=04mfKJWDSzI</td>\n",
       "      <td>Gorillaz - On Melancholy Hill (Official Video)</td>\n",
       "      <td>Gorillaz</td>\n",
       "      <td>211754952.0</td>\n",
       "      <td>1788577.0</td>\n",
       "      <td>55229.0</td>\n",
       "      <td>Follow Gorillaz online:\\nhttp://gorillaz.com \\...</td>\n",
       "      <td>True</td>\n",
       "      <td>True</td>\n",
       "      <td>4.346636e+08</td>\n",
       "    </tr>\n",
       "    <tr>\n",
       "      <th>4</th>\n",
       "      <td>4</td>\n",
       "      <td>Gorillaz</td>\n",
       "      <td>https://open.spotify.com/artist/3AA28KZvwAUcZu...</td>\n",
       "      <td>Clint Eastwood</td>\n",
       "      <td>Gorillaz</td>\n",
       "      <td>album</td>\n",
       "      <td>spotify:track:7yMiX7n9SBvadzox8T5jzT</td>\n",
       "      <td>0.663</td>\n",
       "      <td>0.694</td>\n",
       "      <td>10.0</td>\n",
       "      <td>...</td>\n",
       "      <td>https://www.youtube.com/watch?v=1V_xRb0x9aw</td>\n",
       "      <td>Gorillaz - Clint Eastwood (Official Video)</td>\n",
       "      <td>Gorillaz</td>\n",
       "      <td>618480958.0</td>\n",
       "      <td>6197318.0</td>\n",
       "      <td>155930.0</td>\n",
       "      <td>The official music video for Gorillaz - Clint ...</td>\n",
       "      <td>True</td>\n",
       "      <td>True</td>\n",
       "      <td>6.172597e+08</td>\n",
       "    </tr>\n",
       "  </tbody>\n",
       "</table>\n",
       "<p>5 rows × 28 columns</p>\n",
       "</div>"
      ],
      "text/plain": [
       "   Unnamed: 0    Artist                                        Url_spotify  \\\n",
       "0           0  Gorillaz  https://open.spotify.com/artist/3AA28KZvwAUcZu...   \n",
       "1           1  Gorillaz  https://open.spotify.com/artist/3AA28KZvwAUcZu...   \n",
       "2           2  Gorillaz  https://open.spotify.com/artist/3AA28KZvwAUcZu...   \n",
       "3           3  Gorillaz  https://open.spotify.com/artist/3AA28KZvwAUcZu...   \n",
       "4           4  Gorillaz  https://open.spotify.com/artist/3AA28KZvwAUcZu...   \n",
       "\n",
       "                                           Track  \\\n",
       "0                                 Feel Good Inc.   \n",
       "1                                Rhinestone Eyes   \n",
       "2  New Gold (feat. Tame Impala and Bootie Brown)   \n",
       "3                             On Melancholy Hill   \n",
       "4                                 Clint Eastwood   \n",
       "\n",
       "                                           Album Album_type  \\\n",
       "0                                     Demon Days      album   \n",
       "1                                  Plastic Beach      album   \n",
       "2  New Gold (feat. Tame Impala and Bootie Brown)     single   \n",
       "3                                  Plastic Beach      album   \n",
       "4                                       Gorillaz      album   \n",
       "\n",
       "                                    Uri  Danceability  Energy   Key  ...  \\\n",
       "0  spotify:track:0d28khcov6AiegSCpG5TuT         0.818   0.705   6.0  ...   \n",
       "1  spotify:track:1foMv2HQwfQ2vntFf9HFeG         0.676   0.703   8.0  ...   \n",
       "2  spotify:track:64dLd6rVqDLtkXFYrEUHIU         0.695   0.923   1.0  ...   \n",
       "3  spotify:track:0q6LuUqGLUiCPP1cbdwFs3         0.689   0.739   2.0  ...   \n",
       "4  spotify:track:7yMiX7n9SBvadzox8T5jzT         0.663   0.694  10.0  ...   \n",
       "\n",
       "                                   Url_youtube  \\\n",
       "0  https://www.youtube.com/watch?v=HyHNuVaZJ-k   \n",
       "1  https://www.youtube.com/watch?v=yYDmaexVHic   \n",
       "2  https://www.youtube.com/watch?v=qJa-VFwPpYA   \n",
       "3  https://www.youtube.com/watch?v=04mfKJWDSzI   \n",
       "4  https://www.youtube.com/watch?v=1V_xRb0x9aw   \n",
       "\n",
       "                                               Title   Channel        Views  \\\n",
       "0         Gorillaz - Feel Good Inc. (Official Video)  Gorillaz  693555221.0   \n",
       "1  Gorillaz - Rhinestone Eyes [Storyboard Film] (...  Gorillaz   72011645.0   \n",
       "2  Gorillaz - New Gold ft. Tame Impala & Bootie B...  Gorillaz    8435055.0   \n",
       "3     Gorillaz - On Melancholy Hill (Official Video)  Gorillaz  211754952.0   \n",
       "4         Gorillaz - Clint Eastwood (Official Video)  Gorillaz  618480958.0   \n",
       "\n",
       "       Likes  Comments                                        Description  \\\n",
       "0  6220896.0  169907.0  Official HD Video for Gorillaz' fantastic trac...   \n",
       "1  1079128.0   31003.0  The official video for Gorillaz - Rhinestone E...   \n",
       "2   282142.0    7399.0  Gorillaz - New Gold ft. Tame Impala & Bootie B...   \n",
       "3  1788577.0   55229.0  Follow Gorillaz online:\\nhttp://gorillaz.com \\...   \n",
       "4  6197318.0  155930.0  The official music video for Gorillaz - Clint ...   \n",
       "\n",
       "   Licensed official_video        Stream  \n",
       "0      True           True  1.040235e+09  \n",
       "1      True           True  3.100837e+08  \n",
       "2      True           True  6.306347e+07  \n",
       "3      True           True  4.346636e+08  \n",
       "4      True           True  6.172597e+08  \n",
       "\n",
       "[5 rows x 28 columns]"
      ]
     },
     "execution_count": 580,
     "metadata": {},
     "output_type": "execute_result"
    }
   ],
   "source": [
    "df.head()"
   ]
  },
  {
   "cell_type": "code",
   "execution_count": 581,
   "metadata": {},
   "outputs": [
    {
     "name": "stdout",
     "output_type": "stream",
     "text": [
      "<class 'pandas.core.frame.DataFrame'>\n",
      "RangeIndex: 20718 entries, 0 to 20717\n",
      "Data columns (total 28 columns):\n",
      " #   Column            Non-Null Count  Dtype  \n",
      "---  ------            --------------  -----  \n",
      " 0   Unnamed: 0        20718 non-null  int64  \n",
      " 1   Artist            20718 non-null  object \n",
      " 2   Url_spotify       20718 non-null  object \n",
      " 3   Track             20718 non-null  object \n",
      " 4   Album             20718 non-null  object \n",
      " 5   Album_type        20718 non-null  object \n",
      " 6   Uri               20718 non-null  object \n",
      " 7   Danceability      20716 non-null  float64\n",
      " 8   Energy            20716 non-null  float64\n",
      " 9   Key               20716 non-null  float64\n",
      " 10  Loudness          20716 non-null  float64\n",
      " 11  Speechiness       20716 non-null  float64\n",
      " 12  Acousticness      20716 non-null  float64\n",
      " 13  Instrumentalness  20716 non-null  float64\n",
      " 14  Liveness          20716 non-null  float64\n",
      " 15  Valence           20716 non-null  float64\n",
      " 16  Tempo             20716 non-null  float64\n",
      " 17  Duration_ms       20716 non-null  float64\n",
      " 18  Url_youtube       20248 non-null  object \n",
      " 19  Title             20248 non-null  object \n",
      " 20  Channel           20248 non-null  object \n",
      " 21  Views             20248 non-null  float64\n",
      " 22  Likes             20177 non-null  float64\n",
      " 23  Comments          20149 non-null  float64\n",
      " 24  Description       19842 non-null  object \n",
      " 25  Licensed          20248 non-null  object \n",
      " 26  official_video    20248 non-null  object \n",
      " 27  Stream            20142 non-null  float64\n",
      "dtypes: float64(15), int64(1), object(12)\n",
      "memory usage: 4.4+ MB\n"
     ]
    }
   ],
   "source": [
    "df.info()"
   ]
  },
  {
   "cell_type": "code",
   "execution_count": 582,
   "metadata": {},
   "outputs": [],
   "source": [
    "unwanted_columns = [ 'Url_spotify', 'Uri', 'Url_youtube', 'Title', 'Description', 'official_video', 'Licensed', 'Acousticness', 'Instrumentalness', 'Liveness']\n",
    "df.drop(unwanted_columns, axis=1, inplace=True)"
   ]
  },
  {
   "cell_type": "code",
   "execution_count": 583,
   "metadata": {},
   "outputs": [],
   "source": [
    "median_loud, median_energy = df['Loudness'].median(), df['Energy'].median()\n",
    "df['Loudness'].fillna(median_loud, inplace = True )\n",
    "df['Energy'].fillna(median_energy, inplace = True )"
   ]
  },
  {
   "cell_type": "code",
   "execution_count": 584,
   "metadata": {},
   "outputs": [
    {
     "data": {
      "text/plain": [
       "Unnamed: 0        0\n",
       "Artist            0\n",
       "Track             0\n",
       "Album             0\n",
       "Album_type        0\n",
       "Danceability      2\n",
       "Energy            0\n",
       "Key               2\n",
       "Loudness          0\n",
       "Speechiness       2\n",
       "Valence           2\n",
       "Tempo             2\n",
       "Duration_ms       2\n",
       "Channel         470\n",
       "Views           470\n",
       "Likes           541\n",
       "Comments        569\n",
       "Stream          576\n",
       "dtype: int64"
      ]
     },
     "execution_count": 584,
     "metadata": {},
     "output_type": "execute_result"
    }
   ],
   "source": [
    "df.isnull().sum()"
   ]
  },
  {
   "cell_type": "code",
   "execution_count": 585,
   "metadata": {},
   "outputs": [
    {
     "name": "stdout",
     "output_type": "stream",
     "text": [
      "<class 'pandas.core.frame.DataFrame'>\n",
      "RangeIndex: 20718 entries, 0 to 20717\n",
      "Data columns (total 18 columns):\n",
      " #   Column        Non-Null Count  Dtype  \n",
      "---  ------        --------------  -----  \n",
      " 0   Unnamed: 0    20718 non-null  int64  \n",
      " 1   Artist        20718 non-null  object \n",
      " 2   Track         20718 non-null  object \n",
      " 3   Album         20718 non-null  object \n",
      " 4   Album_type    20718 non-null  object \n",
      " 5   Danceability  20716 non-null  float64\n",
      " 6   Energy        20718 non-null  float64\n",
      " 7   Key           20716 non-null  float64\n",
      " 8   Loudness      20718 non-null  float64\n",
      " 9   Speechiness   20716 non-null  float64\n",
      " 10  Valence       20716 non-null  float64\n",
      " 11  Tempo         20716 non-null  float64\n",
      " 12  Duration_ms   20716 non-null  float64\n",
      " 13  Channel       20248 non-null  object \n",
      " 14  Views         20248 non-null  float64\n",
      " 15  Likes         20177 non-null  float64\n",
      " 16  Comments      20149 non-null  float64\n",
      " 17  Stream        20142 non-null  float64\n",
      "dtypes: float64(12), int64(1), object(5)\n",
      "memory usage: 2.8+ MB\n"
     ]
    }
   ],
   "source": [
    "df.info()"
   ]
  },
  {
   "cell_type": "markdown",
   "metadata": {},
   "source": [
    "### Структура датасета:\n",
    "\n",
    "----\n",
    "\n",
    "26 признаков, описание которых следует ниже:\n",
    "\n",
    "\n",
    "\n",
    "- **Track**: name of the song, as visible on the Spotify platform.\n",
    "- **Artist**: name of the artist.\n",
    "- **Url_spotify**: the Url of the artist.\n",
    "- **Album**: the album in wich the song is contained on Spotify.\n",
    "- **Album_type**: indicates if the song is relesead on Spotify as a single or contained in an album.\n",
    "- **Uri**: a spotify link used to find the song through the API.\n",
    "- **Danceability**: describes how suitable a track is for dancing based on a combination of musical elements including tempo, rhythm stability, beat strength, and overall regularity. A value of 0.0 is least danceable and 1.0 is most danceable.\n",
    "- **Energy:** is a measure from 0.0 to 1.0 and represents a perceptual measure of intensity and activity. Typically, energetic tracks feel fast, loud, and noisy. For example, death metal has high energy, while a Bach prelude scores low on the scale. Perceptual features contributing to this attribute include dynamic range, perceived loudness, timbre, onset rate, and general entropy.\n",
    "- **Key**: the key the track is in. Integers map to pitches using standard Pitch Class notation. E.g. 0 = C, 1 = C♯/D♭, 2 = D, and so on. If no key was detected, the value is -1.\n",
    "- **Loudness**: the overall loudness of a track in decibels (dB). Loudness values are averaged across the entire track and are useful for comparing relative loudness of tracks. Loudness is the quality of a sound that is the primary psychological correlate of physical strength (amplitude). Values typically range between -60 and 0 db.\n",
    "- **Speechiness**: detects the presence of spoken words in a track. The more exclusively speech-like the recording (e.g. talk show, audio book, poetry), the closer to 1.0 the attribute value. Values above 0.66 describe tracks that are probably made entirely of spoken words. Values between 0.33 and 0.66 describe tracks that may contain both music and speech, either in sections or layered, including such cases as rap music. Values below 0.33 most likely represent music and other non-speech-like tracks.\n",
    "- **Acousticness**: a confidence measure from 0.0 to 1.0 of whether the track is acoustic. 1.0 represents high confidence the track is acoustic.\n",
    "- **Instrumentalness**: predicts whether a track contains no vocals. \"Ooh\" and \"aah\" sounds are treated as instrumental in this context. Rap or spoken word tracks are clearly \"vocal\". The closer the instrumentalness value is to 1.0, the greater likelihood the track contains no vocal content. Values above 0.5 are intended to represent instrumental tracks, but confidence is higher as the value approaches 1.0.\n",
    "- **Liveness**: detects the presence of an audience in the recording. Higher liveness values represent an increased probability that the track was performed live. A value above 0.8 provides strong likelihood that the track is live.\n",
    "- **Valence**: a measure from 0.0 to 1.0 describing the musical positiveness conveyed by a track. Tracks with high valence sound more positive (e.g. happy, cheerful, euphoric), while tracks with low valence sound more negative (e.g. sad, depressed, angry).\n",
    "- **Tempo**: the overall estimated tempo of a track in beats per minute (BPM). In musical terminology, tempo is the speed or pace of a given piece and derives directly from the average beat duration.\n",
    "- **Duration_ms**: the duration of the track in milliseconds.\n",
    "- **Stream**: number of streams of the song on Spotify.\n",
    "- **Url_youtube**: url of the video linked to the song on Youtube, if it have any.\n",
    "- **Title**: title of the videoclip on youtube.\n",
    "- **Channel**: name of the channel that have published the video.\n",
    "- **Views**: number of views.\n",
    "- **Likes**: number of likes.\n",
    "- **Comments**: number of comments.\n",
    "- **Description**: description of the video on Youtube.\n",
    "- **Licensed**: Indicates whether the video represents licensed content, which means that the content was uploaded to a channel linked to a YouTube content partner and then claimed by that partner. official_video: boolean value that indicates if the video found is the official video of the song."
   ]
  },
  {
   "cell_type": "markdown",
   "metadata": {},
   "source": [
    "### Вопросы:"
   ]
  },
  {
   "cell_type": "markdown",
   "metadata": {},
   "source": [
    "#### 1. Какая песня является наиболее транслируемой в датасете (признак Stream)?"
   ]
  },
  {
   "cell_type": "markdown",
   "metadata": {},
   "source": [
    "В методе loc указываем индекс и наименование столбца из которого нужно вывести значение\n",
    "Метод idxmax() возвращает индекс максимального значения в колонке Stream"
   ]
  },
  {
   "cell_type": "code",
   "execution_count": 520,
   "metadata": {},
   "outputs": [
    {
     "name": "stdout",
     "output_type": "stream",
     "text": [
      "Наиболее транслируемая песня Blinding Lights\n"
     ]
    }
   ],
   "source": [
    "print(f'Наиболее транслируемая песня', df.loc[df['Stream'].idxmax(), 'Track']) "
   ]
  },
  {
   "cell_type": "markdown",
   "metadata": {},
   "source": [
    "#### 2. У какого исполнителя больше всего просмотров на YouTube?"
   ]
  },
  {
   "cell_type": "markdown",
   "metadata": {},
   "source": [
    "Группируем датафрейм по исполнителям и суммируем количество просмотров (Views) с помощью метода idxmax() определяем индекс исполнителя, у которого максимальноe количество просмотров"
   ]
  },
  {
   "cell_type": "code",
   "execution_count": 521,
   "metadata": {},
   "outputs": [
    {
     "name": "stdout",
     "output_type": "stream",
     "text": [
      "Больше всего просмотров на YouTube у Ed Sheeran\n"
     ]
    }
   ],
   "source": [
    "max_view_artist = df.groupby('Artist').aggregate({'Views': 'sum'}).idxmax()\n",
    "print('Больше всего просмотров на YouTube у', max_view_artist[0])"
   ]
  },
  {
   "cell_type": "markdown",
   "metadata": {},
   "source": [
    "#### 3. Какова средняя продолжительность всех песен в минутах?"
   ]
  },
  {
   "cell_type": "markdown",
   "metadata": {},
   "source": [
    "Находим среднее значение столбца Duration_ms, используя метод mean(), полученное значение делим на 60000 для перевода мс в мин"
   ]
  },
  {
   "cell_type": "code",
   "execution_count": 522,
   "metadata": {},
   "outputs": [
    {
     "name": "stdout",
     "output_type": "stream",
     "text": [
      "Средняя продолжительность всех песен 3.7 мин\n"
     ]
    }
   ],
   "source": [
    "print(f'Средняя продолжительность всех песен', round(df['Duration_ms'].mean()/60000, 1), 'мин')"
   ]
  },
  {
   "cell_type": "markdown",
   "metadata": {},
   "source": [
    "#### 4. Какая нота (Key) чаще всего используется в песнях?"
   ]
  },
  {
   "cell_type": "markdown",
   "metadata": {},
   "source": [
    "C помощью метода value_counts() считаем, сколько раз каждая нота встречается в столбце"
   ]
  },
  {
   "cell_type": "code",
   "execution_count": 523,
   "metadata": {},
   "outputs": [],
   "source": [
    "value_key = df['Key'].value_counts()"
   ]
  },
  {
   "cell_type": "markdown",
   "metadata": {},
   "source": [
    "Составляем словарь для соответствия каждого ключа Key ноте"
   ]
  },
  {
   "cell_type": "code",
   "execution_count": 524,
   "metadata": {},
   "outputs": [],
   "source": [
    "note_dict = {0.0: 'C', 1.0: 'C♯, D♭', 2.0: 'D', 3.0: 'D♯, E♭', 4.0: 'E', 5.0: 'F', 6.0: 'F♯, G♭', 7.0: 'G', 8.0: 'G♯, A♭', 9.0: 'A', 10.0: 'A♯, B♭', 11.0: 'B'}"
   ]
  },
  {
   "cell_type": "code",
   "execution_count": 525,
   "metadata": {},
   "outputs": [
    {
     "name": "stdout",
     "output_type": "stream",
     "text": [
      "Чаще всего используется нота C\n"
     ]
    }
   ],
   "source": [
    "print('Чаще всего используется нота', note_dict[value_key.index[0]])"
   ]
  },
  {
   "cell_type": "markdown",
   "metadata": {},
   "source": [
    "#### 5. Какая самая популярная песня на YouTube?"
   ]
  },
  {
   "cell_type": "markdown",
   "metadata": {},
   "source": [
    "У нас есть данные по просмотрам, лайкам и комментариям на ютубе, все эти параметры будут вносить свой вклад в популярность песни. Если приводить к одному параметру, то непонятно, какой вклад будет вносить каждый из параметров.\n",
    "Поэтому рассчитаем самые популярные песни на YouTube по количеству просмотров, комментариев и количеству лайков."
   ]
  },
  {
   "cell_type": "code",
   "execution_count": 526,
   "metadata": {},
   "outputs": [
    {
     "name": "stdout",
     "output_type": "stream",
     "text": [
      "Самая популярная песня на YouTube по просмотрам Despacito\n",
      "Самая популярная песня на YouTube по лайкам Despacito\n",
      "Самая популярная песня на YouTube по комментариям Dynamite\n"
     ]
    }
   ],
   "source": [
    "print(f'Самая популярная песня на YouTube по просмотрам', df.loc[df['Likes'].idxmax(), 'Track']) \n",
    "print(f'Самая популярная песня на YouTube по лайкам', df.loc[df['Views'].idxmax(), 'Track']) \n",
    "print(f'Самая популярная песня на YouTube по комментариям', df.loc[df['Comments'].idxmax(), 'Track']) "
   ]
  },
  {
   "cell_type": "markdown",
   "metadata": {},
   "source": [
    "#### 6. У какой песни самый высокий балл за танцевальность (danceability )?"
   ]
  },
  {
   "cell_type": "markdown",
   "metadata": {},
   "source": [
    "Определяем самымй большой показатель Danceability и по индексу выводим название песни"
   ]
  },
  {
   "cell_type": "code",
   "execution_count": 527,
   "metadata": {},
   "outputs": [
    {
     "name": "stdout",
     "output_type": "stream",
     "text": [
      "Cамый высокий балл за танцевальность у песни Give It To Me\n"
     ]
    }
   ],
   "source": [
    "print(f'Cамый высокий балл за танцевальность у песни', df.loc[df['Danceability'].idxmax(), 'Track'])"
   ]
  },
  {
   "cell_type": "markdown",
   "metadata": {},
   "source": [
    "#### 7. У какой песни самый высокий показатель энергии (energy score)?"
   ]
  },
  {
   "cell_type": "markdown",
   "metadata": {},
   "source": [
    "Находим максимальное значение Energy и по индексу находим наименование трека"
   ]
  },
  {
   "cell_type": "code",
   "execution_count": 528,
   "metadata": {},
   "outputs": [
    {
     "name": "stdout",
     "output_type": "stream",
     "text": [
      "У песни Rain and Thunderstorm, Pt. 3 самый большой показатель энергии\n"
     ]
    }
   ],
   "source": [
    "print(f'У песни', df.loc[df['Energy'].idxmax(), 'Track'], 'самый большой показатель энергии')"
   ]
  },
  {
   "cell_type": "markdown",
   "metadata": {},
   "source": [
    "#### 8. Какая песня имеет наивысший балл valence (valence score)?"
   ]
  },
  {
   "cell_type": "markdown",
   "metadata": {},
   "source": [
    "Находим максимальный показатель Valence и по индексу определяем название песни"
   ]
  },
  {
   "cell_type": "code",
   "execution_count": 529,
   "metadata": {},
   "outputs": [
    {
     "name": "stdout",
     "output_type": "stream",
     "text": [
      "Наивысший балл valence имеет песня Spider Dance\n"
     ]
    }
   ],
   "source": [
    "print(f'Наивысший балл valence имеет песня', df.loc[df['Valence'].idxmax(), 'Track'])"
   ]
  },
  {
   "cell_type": "markdown",
   "metadata": {},
   "source": [
    "#### 9. Будут ли песни с более высокой «valence» (музыкальной позитивностью) более популярны как на Spotify, так и на YouTube? Чтобы ответить на этот вопрос, подсчитайте среднюю оценку «valence» для песен в верхнем квартиле «Streams» и «Views» и сравните ее с общей средней «valence»."
   ]
  },
  {
   "cell_type": "markdown",
   "metadata": {},
   "source": [
    "Создадим два датафрейма, которые будут содержать данные valence верхних квартилей Views и Stream"
   ]
  },
  {
   "cell_type": "code",
   "execution_count": 530,
   "metadata": {},
   "outputs": [],
   "source": [
    "views_25 = df[['Valence', 'Views']].sort_values('Views', ascending=False)[:5062]\n",
    "stream_25 = df[['Valence', 'Stream']].sort_values('Stream', ascending=False)[:5036]"
   ]
  },
  {
   "cell_type": "markdown",
   "metadata": {},
   "source": [
    "Найдем средние значения valence"
   ]
  },
  {
   "cell_type": "code",
   "execution_count": 531,
   "metadata": {},
   "outputs": [
    {
     "name": "stdout",
     "output_type": "stream",
     "text": [
      "Среднее значение valence равно 0.53\n",
      "Среднее значение valence в верхнем квартиле по просмотрам на Youtube равно 0.548\n",
      "Среднее значение valence в верхнем квартиле по стримам на Spotify равно 0.524\n"
     ]
    }
   ],
   "source": [
    "print(f'Среднее значение valence равно', round(df['Valence'].mean(), 3))\n",
    "print(f'Среднее значение valence в верхнем квартиле по просмотрам на Youtube равно', round(views_25['Valence'].mean(), 3))\n",
    "print(f'Среднее значение valence в верхнем квартиле по стримам на Spotify равно', round(stream_25['Valence'].mean(), 3))"
   ]
  },
  {
   "cell_type": "markdown",
   "metadata": {},
   "source": [
    "Если песни с более высокой valence более популярны, то это означает, что должна быть положительная корреляция между valence и views, valence и stream. Найдем коэффицент корреляции для этих данных"
   ]
  },
  {
   "cell_type": "code",
   "execution_count": 532,
   "metadata": {},
   "outputs": [
    {
     "name": "stdout",
     "output_type": "stream",
     "text": [
      "Коэффициент корреляции между valence и views равен 0.026\n",
      "Коэффициент корреляции между valence и stream равен -0.016\n"
     ]
    }
   ],
   "source": [
    "cor_val_v = round(views_25['Valence'].corr(df['Views']), 3)\n",
    "cor_val_s = round(stream_25['Valence'].corr(df['Stream']), 3)\n",
    "print(f'Коэффициент корреляции между valence и views равен', cor_val_v)\n",
    "print(f'Коэффициент корреляции между valence и stream равен', cor_val_s)"
   ]
  },
  {
   "cell_type": "markdown",
   "metadata": {},
   "source": [
    "Коэффициенты корреляции стремятся к нулю, следовательно линейной зависимости между этими параметрами, следовательно нельзя утверждать, что песни с более высокой valence будут более популярны."
   ]
  },
  {
   "cell_type": "markdown",
   "metadata": {},
   "source": [
    "#### 10. Какой канал на YouTube имеет наибольшее количество просмотров?"
   ]
  },
  {
   "cell_type": "markdown",
   "metadata": {},
   "source": [
    "Группируем каналы и суммируем просмотры для каждого канала, находим макс значение по просмотрам и определяем канал"
   ]
  },
  {
   "cell_type": "code",
   "execution_count": 533,
   "metadata": {},
   "outputs": [
    {
     "name": "stdout",
     "output_type": "stream",
     "text": [
      "Наибольшее количество просмотров на YouTube имеет канал T-Series\n"
     ]
    }
   ],
   "source": [
    "max_views_channel = df.groupby('Channel').aggregate({'Views': 'sum'}).idxmax()\n",
    "print('Наибольшее количество просмотров на YouTube имеет канал', max_views_channel[0])"
   ]
  },
  {
   "cell_type": "markdown",
   "metadata": {},
   "source": [
    "#### 11. У песни какого исполнителя больше всего комментариев на YouTube?"
   ]
  },
  {
   "cell_type": "markdown",
   "metadata": {},
   "source": [
    "Группируем исполнителей и суммируем количество комментариев для каждого исполнителя, находим максимальное значение просмотров на ютуб и определяем исполнителя"
   ]
  },
  {
   "cell_type": "code",
   "execution_count": 534,
   "metadata": {},
   "outputs": [
    {
     "name": "stdout",
     "output_type": "stream",
     "text": [
      "Больше всего комментариев на YouTube у исполнителя BTS\n"
     ]
    }
   ],
   "source": [
    "max_comments_artist = df.groupby('Artist').aggregate({'Comments': 'sum'}).idxmax()\n",
    "print(f'Больше всего комментариев на YouTube у исполнителя', max_comments_artist[0])"
   ]
  },
  {
   "cell_type": "markdown",
   "metadata": {},
   "source": [
    "#### 12. Какой самый распространенный темп (tempo) песен?"
   ]
  },
  {
   "cell_type": "markdown",
   "metadata": {},
   "source": [
    "С помощью метода value_counts() определяем, сколько раз значения темпа встречаются в столбце"
   ]
  },
  {
   "cell_type": "code",
   "execution_count": 586,
   "metadata": {},
   "outputs": [],
   "source": [
    "value_counts_tempo = df['Tempo'].value_counts()"
   ]
  },
  {
   "cell_type": "code",
   "execution_count": 587,
   "metadata": {},
   "outputs": [
    {
     "name": "stdout",
     "output_type": "stream",
     "text": [
      "Самый распространенный темп песен равен 77.986\n"
     ]
    }
   ],
   "source": [
    "print('Самый распространенный темп песен равен', value_counts_tempo.index[0])"
   ]
  },
  {
   "cell_type": "markdown",
   "metadata": {},
   "source": [
    "#### 13. Какая песня имеет самый высокий показатель по speechiness?"
   ]
  },
  {
   "cell_type": "markdown",
   "metadata": {},
   "source": [
    "С помощью метода idxmax() находим индекс максимального значения speechiness и определяем наименование трека"
   ]
  },
  {
   "cell_type": "code",
   "execution_count": 537,
   "metadata": {},
   "outputs": [],
   "source": [
    "max_speechiness = df.loc[df['Speechiness'].idxmax(), 'Track']"
   ]
  },
  {
   "cell_type": "code",
   "execution_count": 538,
   "metadata": {},
   "outputs": [
    {
     "name": "stdout",
     "output_type": "stream",
     "text": [
      "Самый высокий показатель по speechiness имеет песня Teil 7 - Sherlock Holmes und der blinde Bettler - Die neuen Abenteuer, Folge 50\n"
     ]
    }
   ],
   "source": [
    "print(f'Самый высокий показатель по speechiness имеет песня', df.loc[df['Speechiness'].idxmax(), 'Track'])"
   ]
  },
  {
   "cell_type": "markdown",
   "metadata": {},
   "source": [
    "#### 14. Какая самая громкая песня в наборе данных?"
   ]
  },
  {
   "cell_type": "markdown",
   "metadata": {},
   "source": [
    "Громкость определяется по параметру Loudness. Чем выше этот показатель, тем громче песня. Находим максимальное значение показателя и по его индексу определяем песню."
   ]
  },
  {
   "cell_type": "code",
   "execution_count": 539,
   "metadata": {},
   "outputs": [
    {
     "name": "stdout",
     "output_type": "stream",
     "text": [
      "Cамая громкая песня в наборе данных Siren\n"
     ]
    }
   ],
   "source": [
    "print(f'Cамая громкая песня в наборе данных', df.loc[df['Loudness'].idxmax(), 'Track'])"
   ]
  },
  {
   "cell_type": "markdown",
   "metadata": {},
   "source": [
    "#### 15. У какого артиста самый высокий средний балл danceability?"
   ]
  },
  {
   "cell_type": "markdown",
   "metadata": {},
   "source": [
    "Группируем данные по колонке исполнителя, при этом значения Danceability уседняем для каждого исполнителя, находим максимальное среднее значение и по нему определяем исполнителя"
   ]
  },
  {
   "cell_type": "code",
   "execution_count": 540,
   "metadata": {},
   "outputs": [
    {
     "name": "stdout",
     "output_type": "stream",
     "text": [
      "Самый высокий средний балл danceability у Saweetie\n"
     ]
    }
   ],
   "source": [
    "max_danc_artist = df.groupby('Artist').aggregate({'Danceability': 'mean'}).idxmax()\n",
    "print('Самый высокий средний балл danceability у', max_danc_artist[0])"
   ]
  },
  {
   "cell_type": "markdown",
   "metadata": {},
   "source": [
    "#### 16. Как средний показатель «speechiness» песен зависит от «Album_type»? Песни, выпущенные как синглы, чаще содержат больше слов согласно анализу?"
   ]
  },
  {
   "cell_type": "markdown",
   "metadata": {},
   "source": [
    "Группируем по Album_type и определяем среднее значение Speechiness для каждого типа альбома"
   ]
  },
  {
   "cell_type": "code",
   "execution_count": 588,
   "metadata": {},
   "outputs": [
    {
     "data": {
      "text/html": [
       "<div>\n",
       "<style scoped>\n",
       "    .dataframe tbody tr th:only-of-type {\n",
       "        vertical-align: middle;\n",
       "    }\n",
       "\n",
       "    .dataframe tbody tr th {\n",
       "        vertical-align: top;\n",
       "    }\n",
       "\n",
       "    .dataframe thead th {\n",
       "        text-align: right;\n",
       "    }\n",
       "</style>\n",
       "<table border=\"1\" class=\"dataframe\">\n",
       "  <thead>\n",
       "    <tr style=\"text-align: right;\">\n",
       "      <th></th>\n",
       "      <th>Speechiness</th>\n",
       "    </tr>\n",
       "    <tr>\n",
       "      <th>Album_type</th>\n",
       "      <th></th>\n",
       "    </tr>\n",
       "  </thead>\n",
       "  <tbody>\n",
       "    <tr>\n",
       "      <th>album</th>\n",
       "      <td>0.094900</td>\n",
       "    </tr>\n",
       "    <tr>\n",
       "      <th>compilation</th>\n",
       "      <td>0.078867</td>\n",
       "    </tr>\n",
       "    <tr>\n",
       "      <th>single</th>\n",
       "      <td>0.103867</td>\n",
       "    </tr>\n",
       "  </tbody>\n",
       "</table>\n",
       "</div>"
      ],
      "text/plain": [
       "             Speechiness\n",
       "Album_type              \n",
       "album           0.094900\n",
       "compilation     0.078867\n",
       "single          0.103867"
      ]
     },
     "execution_count": 588,
     "metadata": {},
     "output_type": "execute_result"
    }
   ],
   "source": [
    "df.groupby('Album_type').aggregate({'Speechiness': 'mean'})"
   ]
  },
  {
   "cell_type": "markdown",
   "metadata": {},
   "source": [
    "Наименьший показатель Speechiness у альбомов-сборников (0.079), средний показатель у альбомов (0.095) и наибольший у синглов (0.104). Песни, выпущенные как синглы, чаще содержат больше слов, чем альбомы и альбомы-сборники."
   ]
  },
  {
   "cell_type": "markdown",
   "metadata": {},
   "source": [
    "#### 17. Каково среднее количество прослушиваний песен, которые входят в топ 10% лучших по метрике танцевальности?"
   ]
  },
  {
   "cell_type": "markdown",
   "metadata": {},
   "source": [
    "Создадим новый датафрейм, состоящий из 2 колонок: Stream и упрорядоченного по убыванию Danceability и сделаем срез 10% значений датафрейма"
   ]
  },
  {
   "cell_type": "code",
   "execution_count": 594,
   "metadata": {},
   "outputs": [],
   "source": [
    "df_dance10 = df[['Stream', 'Danceability']].sort_values('Danceability', ascending=False)[:2072]"
   ]
  },
  {
   "cell_type": "markdown",
   "metadata": {},
   "source": [
    "Найдем среднее значение Stream  в полученном датафрейме "
   ]
  },
  {
   "cell_type": "code",
   "execution_count": 590,
   "metadata": {},
   "outputs": [
    {
     "name": "stdout",
     "output_type": "stream",
     "text": [
      "Среднее количество прослушиваний песен, которые входят в топ 10% лучших по метрике танцевальности, равно 151903593\n"
     ]
    }
   ],
   "source": [
    "print(f'Среднее количество прослушиваний песен, которые входят в топ 10% лучших по метрике танцевальности, равно', round(df_dance10['Stream'].mean()))"
   ]
  },
  {
   "cell_type": "markdown",
   "metadata": {},
   "source": [
    "#### 18. Для песен, которые входят в топ 10% лучших с точки зрения «danceability» метрики, как соотносится их средний показатель «tempo» со средним показателем «tempo» всех песен?"
   ]
  },
  {
   "cell_type": "code",
   "execution_count": 544,
   "metadata": {},
   "outputs": [],
   "source": [
    "df_dance_10 = df[['Tempo', 'Danceability']].sort_values('Danceability', ascending=False)[:2072]"
   ]
  },
  {
   "cell_type": "code",
   "execution_count": 545,
   "metadata": {},
   "outputs": [
    {
     "name": "stdout",
     "output_type": "stream",
     "text": [
      "Cредний показатель «tempo» равен 120.6\n",
      "Cредний показатель «tempo» для песен, которые входят в топ 10% лучших с точки зрения «danceability»  равен 115.1\n"
     ]
    }
   ],
   "source": [
    "mean_tempo = round(df['Tempo'].mean(), 1)\n",
    "mean_tempo_10 = round(df_dance_10['Tempo'].mean(), 1)\n",
    "print ('Cредний показатель «tempo» равен', mean_tempo)\n",
    "print ('Cредний показатель «tempo» для песен, которые входят в топ 10% лучших с точки зрения «danceability»  равен', mean_tempo_10)"
   ]
  },
  {
   "cell_type": "code",
   "execution_count": 546,
   "metadata": {},
   "outputs": [
    {
     "name": "stdout",
     "output_type": "stream",
     "text": [
      "Коэффициент корреляции для темпа и танцевальности песен равен -0.066\n",
      "Коэффициент корреляции для темпа и топ 10% танцевальности песен равен 0.035\n"
     ]
    }
   ],
   "source": [
    "print(f'Коэффициент корреляции для темпа и танцевальности песен равен', round(df['Tempo'].corr(df['Danceability']), 3))\n",
    "print(f'Коэффициент корреляции для темпа и топ 10% танцевальности песен равен', round(df_dance_10['Tempo'].corr(df['Danceability']), 3))"
   ]
  },
  {
   "cell_type": "markdown",
   "metadata": {},
   "source": [
    "В виду того, что полученные коэффициенты корреляции близки к нулю, можем сделать вывод, что темп и танцевальность не являются линейно зависимыми. Исходя, из средних значений темпа, можем сделать вывод, что песни с высокой танцевальностью имеют темп ниже, чем весь набор песен."
   ]
  },
  {
   "cell_type": "markdown",
   "metadata": {},
   "source": [
    "#### 19. Какова корреляция между «valence» метрикой песни и ее популярностью на YouTube (по показателю «Views») и Spotify (по показателю «Stream»)? Счастливые песни более популярны? Valency отвечает за жизнерадостность песни."
   ]
  },
  {
   "cell_type": "markdown",
   "metadata": {},
   "source": [
    "Найдем коэффициенты корреляции между Valence и Views и Valence и Stream"
   ]
  },
  {
   "cell_type": "code",
   "execution_count": 547,
   "metadata": {},
   "outputs": [
    {
     "name": "stdout",
     "output_type": "stream",
     "text": [
      "Коэффициент корреляции между Valence и Views равен 0.035\n",
      "Коэффициент корреляции между Valence и Stream равен -0.012\n"
     ]
    }
   ],
   "source": [
    "coef_corr_Val_V =  df['Valence'].corr(df['Views'])\n",
    "coef_corr_Val_S = df['Valence'].corr(df['Stream'])\n",
    "print(f'Коэффициент корреляции между Valence и Views равен', round(coef_corr_Val_V, 3))\n",
    "print(f'Коэффициент корреляции между Valence и Stream равен', round(coef_corr_Val_S, 3))"
   ]
  },
  {
   "cell_type": "markdown",
   "metadata": {},
   "source": [
    " Коэффициенты корреляции близки к нулю, это означает, что нет линейной зависимости между valency и популярностью песни."
   ]
  },
  {
   "cell_type": "markdown",
   "metadata": {},
   "source": [
    "#### 20. Какова средняя громкость песен, которые входят в топ 10% лучших по энергетике (Energy)?"
   ]
  },
  {
   "cell_type": "markdown",
   "metadata": {},
   "source": [
    "Создадим датафрейм, состоящий из 2 колонок: Loudness и Energy, отсортированного по убыванию. Сделаем срез на 2072 значения - 10% от 20716"
   ]
  },
  {
   "cell_type": "code",
   "execution_count": 548,
   "metadata": {},
   "outputs": [],
   "source": [
    "df3 = df[['Loudness', 'Energy']].sort_values('Energy', ascending=False)[:2072]"
   ]
  },
  {
   "cell_type": "markdown",
   "metadata": {},
   "source": [
    "Найдем среднее значение громкости для топ 10% по энергетике"
   ]
  },
  {
   "cell_type": "code",
   "execution_count": 549,
   "metadata": {},
   "outputs": [
    {
     "name": "stdout",
     "output_type": "stream",
     "text": [
      "Cредняя громкость песен, которые входят в топ 10% лучших по энергетике, составляет -4.6 db\n"
     ]
    }
   ],
   "source": [
    "print(f'Cредняя громкость песен, которые входят в топ 10% лучших по энергетике, составляет', round(df3['Loudness'].mean(), 1), 'db')"
   ]
  },
  {
   "cell_type": "markdown",
   "metadata": {},
   "source": [
    "#### 21. У какого исполнителя больше всего песен, которые входят в топ-10% как по просмотрам на YouTube, так и по стримам Spotify?"
   ]
  },
  {
   "cell_type": "markdown",
   "metadata": {},
   "source": [
    "Найдем топ-10% Youtube по просмотрам и Spotify по стримам"
   ]
  },
  {
   "cell_type": "code",
   "execution_count": 550,
   "metadata": {},
   "outputs": [],
   "source": [
    "top_10_youtube = df[['Unnamed: 0','Artist', 'Track', 'Views', 'Stream']].sort_values('Views', ascending=False)[:2025]\n",
    "top_10_spotify = df[['Unnamed: 0', 'Artist', 'Track', 'Views', 'Stream']].sort_values('Stream', ascending=False)[:2014]"
   ]
  },
  {
   "cell_type": "markdown",
   "metadata": {},
   "source": [
    "Далее соединим эти датафреймы в один и отбросим дубликаты"
   ]
  },
  {
   "cell_type": "code",
   "execution_count": 551,
   "metadata": {},
   "outputs": [],
   "source": [
    "top_10 = pd.concat( [top_10_spotify,top_10_youtube])"
   ]
  },
  {
   "cell_type": "code",
   "execution_count": 552,
   "metadata": {},
   "outputs": [],
   "source": [
    "top_10 = top_10.drop_duplicates(subset=['Unnamed: 0', 'Unnamed: 0'])"
   ]
  },
  {
   "cell_type": "markdown",
   "metadata": {},
   "source": [
    "Полученный датафрейм сгруппируем по исполнителям и посчитаем количество строк для каждого"
   ]
  },
  {
   "cell_type": "code",
   "execution_count": 553,
   "metadata": {},
   "outputs": [
    {
     "data": {
      "text/plain": [
       "Artist\n",
       "Coldplay                   10\n",
       "Queen                      10\n",
       "Linkin Park                10\n",
       "Ariana Grande              10\n",
       "Post Malone                10\n",
       "Dua Lipa                   10\n",
       "Earth, Wind & Fire         10\n",
       "Maroon 5                   10\n",
       "Avicii                     10\n",
       "XXXTENTACION               10\n",
       "Eminem                     10\n",
       "Macklemore & Ryan Lewis    10\n",
       "J Balvin                   10\n",
       "dtype: int64"
      ]
     },
     "execution_count": 553,
     "metadata": {},
     "output_type": "execute_result"
    }
   ],
   "source": [
    "top_10.groupby('Artist').size().sort_values(ascending=False).head(13)"
   ]
  },
  {
   "cell_type": "markdown",
   "metadata": {},
   "source": [
    "В результате мы получили 12 исполнителей, песни которых входят в топ-10% по просмотрам на Youtube и по стримам на Spotify: The Mamas & The Papas, Dua Lipa, Coldplay, Linkin Park, J Balvin, Eminem, Earth, Wind & Fire, Maroon 5, Ariana Grande, Macklemore & Ryan Lewis, Post Malone, Avicii, Khalid  "
   ]
  },
  {
   "cell_type": "markdown",
   "metadata": {},
   "source": [
    "#### 22. Какова корреляция между «energy» песни и ее «loudness»?"
   ]
  },
  {
   "cell_type": "markdown",
   "metadata": {},
   "source": [
    "Найдем коэффициент корреляции, используя метод .corr()"
   ]
  },
  {
   "cell_type": "code",
   "execution_count": 569,
   "metadata": {},
   "outputs": [],
   "source": [
    "cor_E_L = df['Energy'].corr(df['Loudness'])"
   ]
  },
  {
   "cell_type": "code",
   "execution_count": 570,
   "metadata": {},
   "outputs": [
    {
     "data": {
      "text/plain": [
       "0.7448445555528453"
      ]
     },
     "execution_count": 570,
     "metadata": {},
     "output_type": "execute_result"
    }
   ],
   "source": [
    "cor_E_L"
   ]
  },
  {
   "cell_type": "markdown",
   "metadata": {},
   "source": [
    "Коэффициент корреляции равен 0,745, что говорит о положительной корреляции.\n",
    "Теперь нужно вычислить р-значение, чтобы понять является ли корреляции статистически значимой"
   ]
  },
  {
   "cell_type": "code",
   "execution_count": 573,
   "metadata": {},
   "outputs": [
    {
     "data": {
      "text/plain": [
       "PearsonRResult(statistic=0.7448450518541081, pvalue=0.0)"
      ]
     },
     "execution_count": 573,
     "metadata": {},
     "output_type": "execute_result"
    }
   ],
   "source": [
    "from scipy.stats import pearsonr\n",
    "pearsonr(df['Energy'], df['Loudness'])"
   ]
  },
  {
   "cell_type": "markdown",
   "metadata": {},
   "source": [
    "Так как pvalue=0.0, то можем сделать вывод о том, что существует значимая связь между переменными Energy и Loudness"
   ]
  },
  {
   "cell_type": "markdown",
   "metadata": {},
   "source": [
    "#### 23. Каково среднее количество лайков на YouTube для песен, которые находятся в верхнем квартиле (25%) и как это соотносится с общим средним показателем?"
   ]
  },
  {
   "cell_type": "code",
   "execution_count": 557,
   "metadata": {},
   "outputs": [],
   "source": [
    "likes_25 = df['Likes'].sort_values(ascending=False)[:5044]"
   ]
  },
  {
   "cell_type": "code",
   "execution_count": 558,
   "metadata": {},
   "outputs": [
    {
     "name": "stdout",
     "output_type": "stream",
     "text": [
      "Среднее значение лайков равно 663341\n",
      "Cреднее значение лайков в верхнем квартиле 2307672\n"
     ]
    }
   ],
   "source": [
    "print(f'Среднее значение лайков равно', round(df['Likes'].mean()))\n",
    "print(f'Cреднее значение лайков в верхнем квартиле', round(likes_25.mean()))"
   ]
  },
  {
   "cell_type": "markdown",
   "metadata": {},
   "source": [
    "Среднее значение лайков в верхнем квартиле в 3,33 раза превышает количество лайков для всех песен"
   ]
  },
  {
   "cell_type": "markdown",
   "metadata": {},
   "source": [
    "#### 24. Есть ли существенная разница в средней «valence» метрикой для песен, выпущенных как синглы, по сравнению с песнями, выпущенными в виде альбома?"
   ]
  },
  {
   "cell_type": "markdown",
   "metadata": {},
   "source": [
    "Отфильтруем наши данные по типу альбома single и album"
   ]
  },
  {
   "cell_type": "code",
   "execution_count": 559,
   "metadata": {},
   "outputs": [],
   "source": [
    "valence_single = df.query('Album_type == \"single\"')\n",
    "valence_album = df.query('Album_type == \"album\"')"
   ]
  },
  {
   "cell_type": "markdown",
   "metadata": {},
   "source": [
    "Найдем среднее значение Valence для синглов и альбомов"
   ]
  },
  {
   "cell_type": "code",
   "execution_count": 560,
   "metadata": {},
   "outputs": [
    {
     "name": "stdout",
     "output_type": "stream",
     "text": [
      "Среднее значение Valence для песен, выпущенных как синглы, равно 0.5301\n",
      "Среднее значение Valence для песен, выпущенных как альбомы, равно 0.5298\n"
     ]
    }
   ],
   "source": [
    "mean_val_single = round(valence_single['Valence'].mean(), 4)\n",
    "mean_val_album = round(valence_album['Valence'].mean(), 4)\n",
    "print(f'Среднее значение Valence для песен, выпущенных как синглы, равно', mean_val_single)\n",
    "print(f'Среднее значение Valence для песен, выпущенных как альбомы, равно', mean_val_album)"
   ]
  },
  {
   "cell_type": "markdown",
   "metadata": {},
   "source": [
    "Полученные значения очень близки, рассчитаем t-критерий Стьюдента и p-value, чтоб определить, являются ли различия статистически значимыми."
   ]
  },
  {
   "cell_type": "code",
   "execution_count": 561,
   "metadata": {},
   "outputs": [
    {
     "name": "stdout",
     "output_type": "stream",
     "text": [
      "T-критерий Стьюдента равен nan , p-value равен nan\n"
     ]
    }
   ],
   "source": [
    "from scipy.stats import ttest_ind\n",
    "result = ttest_ind(valence_single['Valence'], valence_album['Valence'])\n",
    "print(f'T-критерий Стьюдента равен', round(result[0], 3), ', p-value равен', round(result[1],3))"
   ]
  },
  {
   "cell_type": "markdown",
   "metadata": {},
   "source": [
    "Значение p-value получилось равным 0,579, что превышает значение 0,05 и говорит о том, что нет статистически значимых различий между выборками"
   ]
  },
  {
   "cell_type": "markdown",
   "metadata": {},
   "source": [
    "#### 25. Каково среднее количество «комментариев» на YouTube для песен с показателем «speechiness» выше 0,66 (что указывает на большое количество произнесенных слов) и как это соотносится с общим средним показателем?"
   ]
  },
  {
   "cell_type": "markdown",
   "metadata": {},
   "source": [
    " Отсортируем датафрейм по показателю Speechiness > 0.66"
   ]
  },
  {
   "cell_type": "code",
   "execution_count": 562,
   "metadata": {},
   "outputs": [],
   "source": [
    "speech_066 = df.query('Speechiness > 0.66')"
   ]
  },
  {
   "cell_type": "code",
   "execution_count": 563,
   "metadata": {},
   "outputs": [
    {
     "data": {
      "text/html": [
       "<div>\n",
       "<style scoped>\n",
       "    .dataframe tbody tr th:only-of-type {\n",
       "        vertical-align: middle;\n",
       "    }\n",
       "\n",
       "    .dataframe tbody tr th {\n",
       "        vertical-align: top;\n",
       "    }\n",
       "\n",
       "    .dataframe thead th {\n",
       "        text-align: right;\n",
       "    }\n",
       "</style>\n",
       "<table border=\"1\" class=\"dataframe\">\n",
       "  <thead>\n",
       "    <tr style=\"text-align: right;\">\n",
       "      <th></th>\n",
       "      <th>Unnamed: 0</th>\n",
       "      <th>Artist</th>\n",
       "      <th>Track</th>\n",
       "      <th>Album</th>\n",
       "      <th>Album_type</th>\n",
       "      <th>Danceability</th>\n",
       "      <th>Energy</th>\n",
       "      <th>Key</th>\n",
       "      <th>Loudness</th>\n",
       "      <th>Speechiness</th>\n",
       "      <th>...</th>\n",
       "      <th>Instrumentalness</th>\n",
       "      <th>Liveness</th>\n",
       "      <th>Valence</th>\n",
       "      <th>Tempo</th>\n",
       "      <th>Duration_ms</th>\n",
       "      <th>Channel</th>\n",
       "      <th>Views</th>\n",
       "      <th>Likes</th>\n",
       "      <th>Comments</th>\n",
       "      <th>Stream</th>\n",
       "    </tr>\n",
       "  </thead>\n",
       "  <tbody>\n",
       "    <tr>\n",
       "      <th>469</th>\n",
       "      <td>469</td>\n",
       "      <td>Die drei ???</td>\n",
       "      <td>Teil 23 - Das Geheimnis der Geisterinsel</td>\n",
       "      <td>Das Geheimnis der Geisterinsel</td>\n",
       "      <td>album</td>\n",
       "      <td>0.518</td>\n",
       "      <td>0.930</td>\n",
       "      <td>1.0</td>\n",
       "      <td>-6.246</td>\n",
       "      <td>0.858</td>\n",
       "      <td>...</td>\n",
       "      <td>0.000000</td>\n",
       "      <td>0.8840</td>\n",
       "      <td>0.241</td>\n",
       "      <td>63.653</td>\n",
       "      <td>180008.0</td>\n",
       "      <td>Serien Schätze de</td>\n",
       "      <td>21912.0</td>\n",
       "      <td>256.0</td>\n",
       "      <td>5.0</td>\n",
       "      <td>NaN</td>\n",
       "    </tr>\n",
       "    <tr>\n",
       "      <th>470</th>\n",
       "      <td>470</td>\n",
       "      <td>Die drei ???</td>\n",
       "      <td>Teil 10 - Das Geheimnis der Geisterinsel</td>\n",
       "      <td>Das Geheimnis der Geisterinsel</td>\n",
       "      <td>album</td>\n",
       "      <td>0.415</td>\n",
       "      <td>0.743</td>\n",
       "      <td>1.0</td>\n",
       "      <td>-9.428</td>\n",
       "      <td>0.836</td>\n",
       "      <td>...</td>\n",
       "      <td>0.000000</td>\n",
       "      <td>0.3390</td>\n",
       "      <td>0.376</td>\n",
       "      <td>175.024</td>\n",
       "      <td>180008.0</td>\n",
       "      <td>Serien Schätze de</td>\n",
       "      <td>21912.0</td>\n",
       "      <td>256.0</td>\n",
       "      <td>5.0</td>\n",
       "      <td>NaN</td>\n",
       "    </tr>\n",
       "    <tr>\n",
       "      <th>471</th>\n",
       "      <td>471</td>\n",
       "      <td>Die drei ???</td>\n",
       "      <td>Teil 1 - Das Geheimnis der Geisterinsel</td>\n",
       "      <td>Das Geheimnis der Geisterinsel</td>\n",
       "      <td>album</td>\n",
       "      <td>0.509</td>\n",
       "      <td>0.744</td>\n",
       "      <td>7.0</td>\n",
       "      <td>-7.231</td>\n",
       "      <td>0.899</td>\n",
       "      <td>...</td>\n",
       "      <td>0.000000</td>\n",
       "      <td>0.1560</td>\n",
       "      <td>0.540</td>\n",
       "      <td>50.977</td>\n",
       "      <td>185263.0</td>\n",
       "      <td>Serien Schätze de</td>\n",
       "      <td>21912.0</td>\n",
       "      <td>256.0</td>\n",
       "      <td>5.0</td>\n",
       "      <td>NaN</td>\n",
       "    </tr>\n",
       "    <tr>\n",
       "      <th>472</th>\n",
       "      <td>472</td>\n",
       "      <td>Die drei ???</td>\n",
       "      <td>Teil 4 - Das Geheimnis der Geisterinsel</td>\n",
       "      <td>Das Geheimnis der Geisterinsel</td>\n",
       "      <td>album</td>\n",
       "      <td>0.572</td>\n",
       "      <td>0.769</td>\n",
       "      <td>1.0</td>\n",
       "      <td>-9.557</td>\n",
       "      <td>0.761</td>\n",
       "      <td>...</td>\n",
       "      <td>0.000000</td>\n",
       "      <td>0.6090</td>\n",
       "      <td>0.453</td>\n",
       "      <td>110.304</td>\n",
       "      <td>180006.0</td>\n",
       "      <td>Serien Schätze de</td>\n",
       "      <td>21912.0</td>\n",
       "      <td>256.0</td>\n",
       "      <td>5.0</td>\n",
       "      <td>NaN</td>\n",
       "    </tr>\n",
       "    <tr>\n",
       "      <th>474</th>\n",
       "      <td>474</td>\n",
       "      <td>Die drei ???</td>\n",
       "      <td>Teil 3 - Das Geheimnis der Geisterinsel</td>\n",
       "      <td>Das Geheimnis der Geisterinsel</td>\n",
       "      <td>album</td>\n",
       "      <td>0.584</td>\n",
       "      <td>0.482</td>\n",
       "      <td>1.0</td>\n",
       "      <td>-10.423</td>\n",
       "      <td>0.865</td>\n",
       "      <td>...</td>\n",
       "      <td>0.000000</td>\n",
       "      <td>0.6640</td>\n",
       "      <td>0.638</td>\n",
       "      <td>103.357</td>\n",
       "      <td>180006.0</td>\n",
       "      <td>Serien Schätze de</td>\n",
       "      <td>21912.0</td>\n",
       "      <td>256.0</td>\n",
       "      <td>5.0</td>\n",
       "      <td>NaN</td>\n",
       "    </tr>\n",
       "    <tr>\n",
       "      <th>...</th>\n",
       "      <td>...</td>\n",
       "      <td>...</td>\n",
       "      <td>...</td>\n",
       "      <td>...</td>\n",
       "      <td>...</td>\n",
       "      <td>...</td>\n",
       "      <td>...</td>\n",
       "      <td>...</td>\n",
       "      <td>...</td>\n",
       "      <td>...</td>\n",
       "      <td>...</td>\n",
       "      <td>...</td>\n",
       "      <td>...</td>\n",
       "      <td>...</td>\n",
       "      <td>...</td>\n",
       "      <td>...</td>\n",
       "      <td>...</td>\n",
       "      <td>...</td>\n",
       "      <td>...</td>\n",
       "      <td>...</td>\n",
       "      <td>...</td>\n",
       "    </tr>\n",
       "    <tr>\n",
       "      <th>15725</th>\n",
       "      <td>15725</td>\n",
       "      <td>Ernia</td>\n",
       "      <td>Bella</td>\n",
       "      <td>Come Uccidere Un Usignolo</td>\n",
       "      <td>album</td>\n",
       "      <td>0.561</td>\n",
       "      <td>0.577</td>\n",
       "      <td>6.0</td>\n",
       "      <td>-11.899</td>\n",
       "      <td>0.935</td>\n",
       "      <td>...</td>\n",
       "      <td>0.000000</td>\n",
       "      <td>0.2000</td>\n",
       "      <td>0.646</td>\n",
       "      <td>172.307</td>\n",
       "      <td>206510.0</td>\n",
       "      <td>Ernia</td>\n",
       "      <td>8883233.0</td>\n",
       "      <td>85792.0</td>\n",
       "      <td>1530.0</td>\n",
       "      <td>41037738.0</td>\n",
       "    </tr>\n",
       "    <tr>\n",
       "      <th>15773</th>\n",
       "      <td>15773</td>\n",
       "      <td>Leslie Odom Jr.</td>\n",
       "      <td>Aaron Burr, Sir</td>\n",
       "      <td>Hamilton (Original Broadway Cast Recording)</td>\n",
       "      <td>album</td>\n",
       "      <td>0.646</td>\n",
       "      <td>0.439</td>\n",
       "      <td>7.0</td>\n",
       "      <td>-10.837</td>\n",
       "      <td>0.818</td>\n",
       "      <td>...</td>\n",
       "      <td>0.000000</td>\n",
       "      <td>0.0945</td>\n",
       "      <td>0.528</td>\n",
       "      <td>160.387</td>\n",
       "      <td>156631.0</td>\n",
       "      <td>Asaki Takaya</td>\n",
       "      <td>487404.0</td>\n",
       "      <td>9246.0</td>\n",
       "      <td>371.0</td>\n",
       "      <td>180370913.0</td>\n",
       "    </tr>\n",
       "    <tr>\n",
       "      <th>16582</th>\n",
       "      <td>16582</td>\n",
       "      <td>Blueface</td>\n",
       "      <td>TikTok</td>\n",
       "      <td>TikTok</td>\n",
       "      <td>single</td>\n",
       "      <td>0.752</td>\n",
       "      <td>0.561</td>\n",
       "      <td>3.0</td>\n",
       "      <td>-8.754</td>\n",
       "      <td>0.885</td>\n",
       "      <td>...</td>\n",
       "      <td>0.000000</td>\n",
       "      <td>0.2200</td>\n",
       "      <td>0.558</td>\n",
       "      <td>206.135</td>\n",
       "      <td>135146.0</td>\n",
       "      <td>BluefaceVEVO</td>\n",
       "      <td>6048777.0</td>\n",
       "      <td>188325.0</td>\n",
       "      <td>4508.0</td>\n",
       "      <td>14112675.0</td>\n",
       "    </tr>\n",
       "    <tr>\n",
       "      <th>18029</th>\n",
       "      <td>18029</td>\n",
       "      <td>A Boogie Wit da Hoodie</td>\n",
       "      <td>Jungle</td>\n",
       "      <td>Artist</td>\n",
       "      <td>album</td>\n",
       "      <td>0.538</td>\n",
       "      <td>0.520</td>\n",
       "      <td>7.0</td>\n",
       "      <td>-11.063</td>\n",
       "      <td>0.737</td>\n",
       "      <td>...</td>\n",
       "      <td>0.000000</td>\n",
       "      <td>0.2140</td>\n",
       "      <td>0.551</td>\n",
       "      <td>180.274</td>\n",
       "      <td>174192.0</td>\n",
       "      <td>A Boogie Wit da Hoodie</td>\n",
       "      <td>98998997.0</td>\n",
       "      <td>746290.0</td>\n",
       "      <td>14761.0</td>\n",
       "      <td>290655353.0</td>\n",
       "    </tr>\n",
       "    <tr>\n",
       "      <th>19968</th>\n",
       "      <td>19968</td>\n",
       "      <td>j-hope</td>\n",
       "      <td>Intro</td>\n",
       "      <td>Jack In The Box</td>\n",
       "      <td>album</td>\n",
       "      <td>0.607</td>\n",
       "      <td>0.355</td>\n",
       "      <td>5.0</td>\n",
       "      <td>-14.867</td>\n",
       "      <td>0.828</td>\n",
       "      <td>...</td>\n",
       "      <td>0.000281</td>\n",
       "      <td>0.7060</td>\n",
       "      <td>0.964</td>\n",
       "      <td>125.308</td>\n",
       "      <td>58872.0</td>\n",
       "      <td>BANGTANTV</td>\n",
       "      <td>954081.0</td>\n",
       "      <td>237761.0</td>\n",
       "      <td>4061.0</td>\n",
       "      <td>14581691.0</td>\n",
       "    </tr>\n",
       "  </tbody>\n",
       "</table>\n",
       "<p>124 rows × 21 columns</p>\n",
       "</div>"
      ],
      "text/plain": [
       "       Unnamed: 0                  Artist  \\\n",
       "469           469            Die drei ???   \n",
       "470           470            Die drei ???   \n",
       "471           471            Die drei ???   \n",
       "472           472            Die drei ???   \n",
       "474           474            Die drei ???   \n",
       "...           ...                     ...   \n",
       "15725       15725                   Ernia   \n",
       "15773       15773         Leslie Odom Jr.   \n",
       "16582       16582                Blueface   \n",
       "18029       18029  A Boogie Wit da Hoodie   \n",
       "19968       19968                  j-hope   \n",
       "\n",
       "                                          Track  \\\n",
       "469    Teil 23 - Das Geheimnis der Geisterinsel   \n",
       "470    Teil 10 - Das Geheimnis der Geisterinsel   \n",
       "471     Teil 1 - Das Geheimnis der Geisterinsel   \n",
       "472     Teil 4 - Das Geheimnis der Geisterinsel   \n",
       "474     Teil 3 - Das Geheimnis der Geisterinsel   \n",
       "...                                         ...   \n",
       "15725                                     Bella   \n",
       "15773                           Aaron Burr, Sir   \n",
       "16582                                    TikTok   \n",
       "18029                                    Jungle   \n",
       "19968                                     Intro   \n",
       "\n",
       "                                             Album Album_type  Danceability  \\\n",
       "469                 Das Geheimnis der Geisterinsel      album         0.518   \n",
       "470                 Das Geheimnis der Geisterinsel      album         0.415   \n",
       "471                 Das Geheimnis der Geisterinsel      album         0.509   \n",
       "472                 Das Geheimnis der Geisterinsel      album         0.572   \n",
       "474                 Das Geheimnis der Geisterinsel      album         0.584   \n",
       "...                                            ...        ...           ...   \n",
       "15725                    Come Uccidere Un Usignolo      album         0.561   \n",
       "15773  Hamilton (Original Broadway Cast Recording)      album         0.646   \n",
       "16582                                       TikTok     single         0.752   \n",
       "18029                                       Artist      album         0.538   \n",
       "19968                              Jack In The Box      album         0.607   \n",
       "\n",
       "       Energy  Key  Loudness  Speechiness  ...  Instrumentalness  Liveness  \\\n",
       "469     0.930  1.0    -6.246        0.858  ...          0.000000    0.8840   \n",
       "470     0.743  1.0    -9.428        0.836  ...          0.000000    0.3390   \n",
       "471     0.744  7.0    -7.231        0.899  ...          0.000000    0.1560   \n",
       "472     0.769  1.0    -9.557        0.761  ...          0.000000    0.6090   \n",
       "474     0.482  1.0   -10.423        0.865  ...          0.000000    0.6640   \n",
       "...       ...  ...       ...          ...  ...               ...       ...   \n",
       "15725   0.577  6.0   -11.899        0.935  ...          0.000000    0.2000   \n",
       "15773   0.439  7.0   -10.837        0.818  ...          0.000000    0.0945   \n",
       "16582   0.561  3.0    -8.754        0.885  ...          0.000000    0.2200   \n",
       "18029   0.520  7.0   -11.063        0.737  ...          0.000000    0.2140   \n",
       "19968   0.355  5.0   -14.867        0.828  ...          0.000281    0.7060   \n",
       "\n",
       "       Valence    Tempo  Duration_ms                 Channel       Views  \\\n",
       "469      0.241   63.653     180008.0       Serien Schätze de     21912.0   \n",
       "470      0.376  175.024     180008.0       Serien Schätze de     21912.0   \n",
       "471      0.540   50.977     185263.0       Serien Schätze de     21912.0   \n",
       "472      0.453  110.304     180006.0       Serien Schätze de     21912.0   \n",
       "474      0.638  103.357     180006.0       Serien Schätze de     21912.0   \n",
       "...        ...      ...          ...                     ...         ...   \n",
       "15725    0.646  172.307     206510.0                   Ernia   8883233.0   \n",
       "15773    0.528  160.387     156631.0            Asaki Takaya    487404.0   \n",
       "16582    0.558  206.135     135146.0            BluefaceVEVO   6048777.0   \n",
       "18029    0.551  180.274     174192.0  A Boogie Wit da Hoodie  98998997.0   \n",
       "19968    0.964  125.308      58872.0               BANGTANTV    954081.0   \n",
       "\n",
       "          Likes  Comments       Stream  \n",
       "469       256.0       5.0          NaN  \n",
       "470       256.0       5.0          NaN  \n",
       "471       256.0       5.0          NaN  \n",
       "472       256.0       5.0          NaN  \n",
       "474       256.0       5.0          NaN  \n",
       "...         ...       ...          ...  \n",
       "15725   85792.0    1530.0   41037738.0  \n",
       "15773    9246.0     371.0  180370913.0  \n",
       "16582  188325.0    4508.0   14112675.0  \n",
       "18029  746290.0   14761.0  290655353.0  \n",
       "19968  237761.0    4061.0   14581691.0  \n",
       "\n",
       "[124 rows x 21 columns]"
      ]
     },
     "execution_count": 563,
     "metadata": {},
     "output_type": "execute_result"
    }
   ],
   "source": [
    "speech_066"
   ]
  },
  {
   "cell_type": "markdown",
   "metadata": {},
   "source": [
    "Посчитаем среднее значение для комментариев на Youtube для всех значений в датафрейме и для тех, у которых Speechiness > 0.66"
   ]
  },
  {
   "cell_type": "code",
   "execution_count": 564,
   "metadata": {
    "scrolled": true
   },
   "outputs": [
    {
     "name": "stdout",
     "output_type": "stream",
     "text": [
      "Cреднее количество «комментариев» на YouTube равно 27519\n",
      "Cреднее количество «комментариев» на YouTube для песен с показателем «speechiness» выше 0,66  равно 335\n"
     ]
    }
   ],
   "source": [
    "mean_comm = round(df['Comments'].mean())\n",
    "mean_comm_066 = round(speech_066['Comments'].mean())\n",
    "print ('Cреднее количество «комментариев» на YouTube равно', mean_comm)\n",
    "print ('Cреднее количество «комментариев» на YouTube для песен с показателем «speechiness» выше 0,66  равно', mean_comm_066)"
   ]
  },
  {
   "cell_type": "markdown",
   "metadata": {},
   "source": [
    "Видим, что среднее количество комментариев для всех песен в разы больше, чем для песен со Speechiness > 0.66.\n",
    "Следовательно, для песен, которые содержат больше слов, оставляют меньше комментариев на Youtube."
   ]
  }
 ],
 "metadata": {
  "kernelspec": {
   "display_name": "Python 3 (ipykernel)",
   "language": "python",
   "name": "python3"
  },
  "language_info": {
   "codemirror_mode": {
    "name": "ipython",
    "version": 3
   },
   "file_extension": ".py",
   "mimetype": "text/x-python",
   "name": "python",
   "nbconvert_exporter": "python",
   "pygments_lexer": "ipython3",
   "version": "3.10.9"
  }
 },
 "nbformat": 4,
 "nbformat_minor": 1
}
